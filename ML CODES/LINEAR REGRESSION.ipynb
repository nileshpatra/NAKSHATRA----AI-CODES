{
 "cells": [
  {
   "cell_type": "markdown",
   "metadata": {},
   "source": [
    "## HERE ARE THE LINKS TO READ DOCUMENTATION OF USED LIBRARIES :\n",
     ## DO CHECK THEM OUT
    "    SKLEARN : http://scikit-learn.org/stable/documentation.html\n",
    "    NUMPY :   https://docs.scipy.org/doc/numpy-1.15.0/\n",
    "    PANDAS :  http://pandas.pydata.org/pandas-docs/version/0.23/\n",
    "    LinearRegression DOCUMENTATION : http://scikit-learn.org/stable/modules/generated/sklearn.linear_model.LinearRegression.html\n",
    "    "
   ]
  },
  {
   "cell_type": "code",
   "execution_count": 1,
   "metadata": {},
   "outputs": [],
   "source": [
    "#IMPORTTED LIBRARIES FOR ANALYSING A DATASET WITH AN ML MODEL \n",
    "from sklearn import datasets , model_selection , linear_model\n",
    "\n",
    "#DATASETS - CONTAIN DATASETS FOR ANALYSIS\n",
    "#MODEL SELECTION - USED FOR SPLITTING DATA INTO TRAINING AND TESTING\n",
    "#LINEAR MODEL - CONTAINS ML ALGOS LIKE LINEAR REGRESSION , LOGISITC REGRESSION"
   ]
  },
  {
   "cell_type": "code",
   "execution_count": 2,
   "metadata": {},
   "outputs": [],
   "source": [
    "#LOADING BOSTON DATASET FROM SKLEARN DATASETS\n",
    "\n",
    "df = datasets.load_boston()"
   ]
  },
  {
   "cell_type": "code",
   "execution_count": 3,
   "metadata": {},
   "outputs": [
    {
     "name": "stdout",
     "output_type": "stream",
     "text": [
      "        0     1     2    3      4      5     6       7    8      9     10  \\\n",
      "0  0.00632  18.0  2.31  0.0  0.538  6.575  65.2  4.0900  1.0  296.0  15.3   \n",
      "1  0.02731   0.0  7.07  0.0  0.469  6.421  78.9  4.9671  2.0  242.0  17.8   \n",
      "2  0.02729   0.0  7.07  0.0  0.469  7.185  61.1  4.9671  2.0  242.0  17.8   \n",
      "3  0.03237   0.0  2.18  0.0  0.458  6.998  45.8  6.0622  3.0  222.0  18.7   \n",
      "4  0.06905   0.0  2.18  0.0  0.458  7.147  54.2  6.0622  3.0  222.0  18.7   \n",
      "\n",
      "       11    12  \n",
      "0  396.90  4.98  \n",
      "1  396.90  9.14  \n",
      "2  392.83  4.03  \n",
      "3  394.63  2.94  \n",
      "4  396.90  5.33  \n",
      "      0\n",
      "0  24.0\n",
      "1  21.6\n",
      "2  34.7\n",
      "3  33.4\n",
      "4  36.2\n"
     ]
    }
   ],
   "source": [
    "#DISPLAYING THE X AND Y IN TABULAR FORMAT\n",
    "\n",
    "import pandas as pd\n",
    "X_val , Y_val = pd.DataFrame(df.data) , pd.DataFrame(df.target)\n",
    "print(X_val.head())\n",
    "print(Y_val.head())"
   ]
  },
  {
   "cell_type": "code",
   "execution_count": 4,
   "metadata": {},
   "outputs": [],
   "source": [
    "#SPLITTED THE DATA INTO TRAINING AND TESTING \n",
    "#df.data CONTAINS X VALUES\n",
    "#df.target CONTAINS THE RESULT\n",
    "\n",
    "X_train , X_test , Y_train ,Y_test = model_selection.train_test_split(df.data , df.target , random_state = 1)\n",
    "alg = linear_model.LinearRegression()"
   ]
  },
  {
   "cell_type": "code",
   "execution_count": 5,
   "metadata": {},
   "outputs": [
    {
     "data": {
      "text/plain": [
       "LinearRegression(copy_X=True, fit_intercept=True, n_jobs=1, normalize=False)"
      ]
     },
     "execution_count": 5,
     "metadata": {},
     "output_type": "execute_result"
    }
   ],
   "source": [
    "#FIT THE MODEL WITH TRAINING AND TESTING\n",
    "\n",
    "alg.fit(X_train , Y_train)\n"
   ]
  },
  {
   "cell_type": "code",
   "execution_count": 6,
   "metadata": {},
   "outputs": [
    {
     "data": {
      "text/plain": [
       "0.7790257749137307"
      ]
     },
     "execution_count": 6,
     "metadata": {},
     "output_type": "execute_result"
    }
   ],
   "source": [
    "#GIVES THE SCORE OF THE APPLIED MODEL\n",
    "alg.score(X_test , Y_test)"
   ]
  },
  {
   "cell_type": "code",
   "execution_count": 7,
   "metadata": {},
   "outputs": [
    {
     "data": {
      "text/plain": [
       "array([-1.13256952e-01,  5.70869807e-02,  3.87621062e-02,  2.43279795e+00,\n",
       "       -2.12706290e+01,  2.86930027e+00,  7.02105327e-03, -1.47118312e+00,\n",
       "        3.05187368e-01, -1.06649888e-02, -9.97404179e-01,  6.39833822e-03,\n",
       "       -5.58425480e-01])"
      ]
     },
     "execution_count": 7,
     "metadata": {},
     "output_type": "execute_result"
    }
   ],
   "source": [
    "#REGRESSION COEFFICECIENTS\n",
    "alg.coef_"
   ]
  },
  {
   "cell_type": "code",
   "execution_count": 8,
   "metadata": {},
   "outputs": [
    {
     "data": {
      "text/plain": [
       "45.23641584605663"
      ]
     },
     "execution_count": 8,
     "metadata": {},
     "output_type": "execute_result"
    }
   ],
   "source": [
    "#INTERCEPT FOR THE MODEL\n",
    "alg.intercept_"
   ]
  },
  {
   "cell_type": "code",
   "execution_count": 9,
   "metadata": {},
   "outputs": [
    {
     "data": {
      "text/plain": [
       "array([32.37355169, 27.95629215, 18.07265446, 21.63752354, 18.92899165,\n",
       "       19.96544181, 32.28164239, 18.06690441, 24.73681562, 26.85560915,\n",
       "       27.23448864, 28.56695646, 21.19027273, 26.94926544, 23.38373688,\n",
       "       20.89466993, 17.10735967, 37.72703514, 30.52697416,  8.43947453,\n",
       "       20.87218975, 16.19528394, 25.13903989, 24.77783176, 31.41047378,\n",
       "       10.97998688, 13.79742537, 16.80597997, 35.94111289, 14.71326657,\n",
       "       21.23984248, 14.1500526 , 42.7175483 , 17.83367283, 21.8471085 ,\n",
       "       20.39714439, 17.4827441 , 26.99954163,  9.82567275, 20.00045231,\n",
       "       24.27086068, 21.06464573, 29.47336641, 16.46410291, 19.38632792,\n",
       "       14.49124029, 39.41204737, 18.10233655, 26.21931924, 20.56700238,\n",
       "       25.08766866, 24.48271997, 25.02751143, 26.85092251,  5.00787149,\n",
       "       24.12962926, 10.7060661 , 26.83809421, 16.79966861, 35.47116284,\n",
       "       19.49834974, 27.43500479, 16.57517584, 19.11046881, 10.97829442,\n",
       "       32.04938666, 36.3187731 , 21.86383561, 24.82654636, 25.34497518,\n",
       "       23.36898797,  6.99865029, 16.82926036, 20.2651223 , 20.74578444,\n",
       "       21.85863245, 34.18467273, 27.95220552, 24.86087363, 34.4298983 ,\n",
       "       18.6153324 , 24.02883897, 34.45483147, 13.27505837, 20.71858774,\n",
       "       30.1615014 , 17.04490511, 24.20028896, 19.17968202, 16.97964859,\n",
       "       26.80839937, 41.01402058, 14.45369995, 23.27510914, 14.92319964,\n",
       "       21.93677781, 22.81592892, 29.16975402, 36.69413595, 20.40886123,\n",
       "       17.82738237, 17.49005237, 25.07511894, 21.98189934,  8.28498632,\n",
       "       21.52508548, 16.46257248, 33.01600715, 24.49465929, 25.08278997,\n",
       "       38.29472881, 28.93626329, 14.80682003, 34.73501879, 35.49658763,\n",
       "       32.89764656, 20.97873322, 16.66612666, 34.24466124, 39.00016305,\n",
       "       21.57473927, 15.65632993, 27.32990822, 18.71715952, 27.27015969,\n",
       "       21.16178312, 26.01358024])"
      ]
     },
     "execution_count": 9,
     "metadata": {},
     "output_type": "execute_result"
    }
   ],
   "source": [
    "#PREDICTED VALUES\n",
    "y_pred = alg.predict(X_test)\n",
    "y_pred"
   ]
  },
  {
   "cell_type": "code",
   "execution_count": 10,
   "metadata": {},
   "outputs": [
    {
     "data": {
      "text/plain": [
       "0.7790257749137307"
      ]
     },
     "execution_count": 10,
     "metadata": {},
     "output_type": "execute_result"
    }
   ],
   "source": [
    "#CALCULATING SCORE THROUGH FORMULA\n",
    "1 - ((y_pred - Y_test)**2).sum()/((Y_test - Y_test.mean())**2).sum() "
   ]
  }
 ],
 "metadata": {
  "kernelspec": {
   "display_name": "Python 3",
   "language": "python",
   "name": "python3"
  },
  "language_info": {
   "codemirror_mode": {
    "name": "ipython",
    "version": 3
   },
   "file_extension": ".py",
   "mimetype": "text/x-python",
   "name": "python",
   "nbconvert_exporter": "python",
   "pygments_lexer": "ipython3",
   "version": "3.6.5"
  }
 },
 "nbformat": 4,
 "nbformat_minor": 2
}
